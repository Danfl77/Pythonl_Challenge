{
 "cells": [
  {
   "cell_type": "code",
   "execution_count": 1,
   "id": "c0ead161",
   "metadata": {},
   "outputs": [],
   "source": [
    "#Import needed modules and specify path to locate data\n",
    "import os\n",
    "import csv\n",
    "csvpath = os.path.join('Resources','budget_data.csv')"
   ]
  },
  {
   "cell_type": "code",
   "execution_count": 2,
   "id": "ccfc38e9",
   "metadata": {},
   "outputs": [],
   "source": [
    "#Create list to store data and perform calculations\n",
    "Profit = []\n",
    "Change_Profit = 0\n",
    "profit1 = []\n",
    "profit2 = []\n",
    "profit_Change = []\n",
    "Months = []\n",
    "month_count= 0\n",
    "\n",
    "\n",
    "with open (csvpath) as csvfile:\n",
    "    #Split the data on commas\n",
    "    Bank_data = csv.reader(csvfile, delimiter = ',')\n",
    "    \n",
    "    csv_header = next(Bank_data)\n",
    "    \n",
    "    #Populate list\n",
    "    for row in Bank_data:\n",
    "        \n",
    "        #Populate the months list\n",
    "        Months.append(row[0])#Count of months\n",
    "        \n",
    "        #Calculate number of months\n",
    "        month_count= int(len(Months))\n",
    "        \n",
    "        #Populate profit list\n",
    "        Profit.append(int(row[1]))\n",
    "        profit1.append(int(row[1]))\n",
    "        profit2.append(int(row[1]))"
   ]
  },
  {
   "cell_type": "code",
   "execution_count": 3,
   "id": "ff966450",
   "metadata": {},
   "outputs": [],
   "source": [
    "#Perform calculations\n",
    "\n",
    "#Calculate net total amount of \"Profit/Losses\" over the entire period and the average of those changes\n",
    "Total_profit = sum(Profit)\n",
    "\n",
    "#Claculate changes in \"Profit/Losses\" over the entire period and average \n",
    "#Seperate the profit figures into 2 seperate list so that they can be subtarcted from each other to calculate the profit changes\n",
    "del profit1[(month_count) -1]\n",
    "del profit2[0]\n",
    "#Subtract profit1 from profit2 to obtain profit change\n",
    "for x, i in zip(profit2,profit1):\n",
    "    profit_Change.append(x - i)\n",
    "    \n",
    "#Calculate average change in profits/looses\n",
    "Raw_Average_change = sum(profit_Change) / len(profit_Change)\n",
    "Average_change = str(round(Raw_Average_change,2))\n",
    "\n",
    "#Calculate the greatest increase in profits and the month it occured\n",
    "Greatest_Increase = max(profit_Change)\n",
    "        \n",
    "#Locate where greatest increase is in list of profit changes\n",
    "greatest_increase_location = profit_Change.index(Greatest_Increase) + 1\n",
    "                \n",
    "#Locate value in the list of months that corresponds to the greatest increase\n",
    "Greatest_Increase_Month = Months[greatest_increase_location]\n",
    "  \n",
    "#Calculate the greatest decrease in profits and the month it occured\n",
    "Greatest_decrease = min(profit_Change)\n",
    "               \n",
    "#Locate where greatest decrease is in list of profit changes\n",
    "greatest_decrease_location = profit_Change.index(Greatest_decrease) + 1\n",
    "        \n",
    "#Locate value in the list of months that corresponds to the greatest decrease\n",
    "Greatest_Decrease_Month = Months[greatest_decrease_location]\n",
    "        \n"
   ]
  },
  {
   "cell_type": "code",
   "execution_count": 4,
   "id": "43df7758",
   "metadata": {},
   "outputs": [
    {
     "name": "stdout",
     "output_type": "stream",
     "text": [
      "Financial Analysis\n",
      "     \n",
      "----------------------------------\n",
      "     \n",
      "Total Months: 86\n",
      "     \n",
      "Total: $22564198\n",
      "     \n",
      "Average change: $-8311.11\n",
      "     \n",
      "Greatest Increase in Profits: Aug-16 ($1862002)\n",
      "     \n",
      "Greatest Decrease in Profits: Feb-14 ($-1825558)\n"
     ]
    }
   ],
   "source": [
    "#Print to terminal\n",
    "print(\"Financial Analysis\")\n",
    "print(\"     \")\n",
    "print(\"----------------------------------\")\n",
    "print(\"     \")\n",
    "print(f\"Total Months: {month_count}\")\n",
    "print(\"     \")\n",
    "print(f\"Total: ${Total_profit}\")\n",
    "print(\"     \")\n",
    "print(f\"Average change: ${Average_change}\")\n",
    "print(\"     \")\n",
    "print(f\"Greatest Increase in Profits: {Greatest_Increase_Month} (${Greatest_Increase})\")\n",
    "print(\"     \")\n",
    "print(f\"Greatest Decrease in Profits: {Greatest_Decrease_Month} (${Greatest_decrease})\")\n"
   ]
  },
  {
   "cell_type": "code",
   "execution_count": 5,
   "id": "cf20a4fc",
   "metadata": {},
   "outputs": [],
   "source": [
    "#Print to text file\n",
    "with open('Financial_Analysis.txt','w') as f:\n",
    "    f.write(\"Financial Analysis\"+ '\\n'+ '\\n')\n",
    "    f.write(\"----------------------------------\"+ '\\n'+ '\\n')\n",
    "    f.write(f\"Total Months: {month_count}\"+ '\\n'+ '\\n')\n",
    "    f.write(f\"Total: ${Total_profit}\"+ '\\n'+ '\\n')\n",
    "    f.write(f\"Average change: ${Average_change}\"+ '\\n'+ '\\n')\n",
    "    f.write(f\"Greatest Increase in Profits: {Greatest_Increase_Month} (${Greatest_Increase})\"+ '\\n'+ '\\n')\n",
    "    f.write(f\"Greatest Decrease in Profits: {Greatest_Decrease_Month} (${Greatest_decrease})\") "
   ]
  }
 ],
 "metadata": {
  "kernelspec": {
   "display_name": "Python 3 (ipykernel)",
   "language": "python",
   "name": "python3"
  },
  "language_info": {
   "codemirror_mode": {
    "name": "ipython",
    "version": 3
   },
   "file_extension": ".py",
   "mimetype": "text/x-python",
   "name": "python",
   "nbconvert_exporter": "python",
   "pygments_lexer": "ipython3",
   "version": "3.9.13"
  }
 },
 "nbformat": 4,
 "nbformat_minor": 5
}
