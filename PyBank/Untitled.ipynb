{
 "cells": [
  {
   "cell_type": "code",
   "execution_count": null,
   "id": "7c94340e",
   "metadata": {},
   "outputs": [],
   "source": [
    "#Import needed modules\n",
    "import os\n",
    "import csv"
   ]
  },
  {
   "cell_type": "code",
   "execution_count": null,
   "id": "e66d9743",
   "metadata": {},
   "outputs": [],
   "source": [
    "csvpath = os.path.join('Resources',)"
   ]
  }
 ],
 "metadata": {
  "kernelspec": {
   "display_name": "Python 3 (ipykernel)",
   "language": "python",
   "name": "python3"
  },
  "language_info": {
   "codemirror_mode": {
    "name": "ipython",
    "version": 3
   },
   "file_extension": ".py",
   "mimetype": "text/x-python",
   "name": "python",
   "nbconvert_exporter": "python",
   "pygments_lexer": "ipython3",
   "version": "3.9.13"
  }
 },
 "nbformat": 4,
 "nbformat_minor": 5
}
