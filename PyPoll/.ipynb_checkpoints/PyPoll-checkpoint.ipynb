{
 "cells": [
  {
   "cell_type": "code",
   "execution_count": 1,
   "id": "62af353c",
   "metadata": {},
   "outputs": [],
   "source": [
    "#Import needed modules and specify path to locate data\n",
    "import os\n",
    "import csv\n",
    "csvpath = os.path.join('Resources','election_data.csv')"
   ]
  },
  {
   "cell_type": "code",
   "execution_count": 2,
   "id": "87b0ed3a",
   "metadata": {},
   "outputs": [],
   "source": [
    "#Create list to store data and perform calculations\n",
    "Candidates = []\n",
    "Unique_candidates = []\n",
    "Candidate_Vote_Count = []\n",
    "\n",
    "\n",
    "with open (csvpath) as csvfile:\n",
    "    \n",
    "    Poll_data = csv.reader(csvfile, delimiter = ',')\n",
    "    \n",
    "    csv_header = next(Poll_data)\n",
    "    \n",
    "    #Collect candidate names and count of votes\n",
    "    for row in Poll_data:\n",
    "        Candidates.append(row[2])\n",
    "        \n",
    "    Total_votes = len(Candidates)\n",
    "    \n",
    "    #Find unique values in candidates list\n",
    "    for x in Candidates:\n",
    "        if x not in Unique_candidates:\n",
    "            Unique_candidates.append(x)\n",
    " \n",
    "    Candidate_count = len(Unique_candidates)\n",
    "    \n",
    "    #Count votes for each candidate\n",
    "    Vote_count = {} \n",
    "    for x in Candidates:\n",
    "        Vote_count[x]= Vote_count.get(x,0) + 1\n",
    "        \n",
    "    #Determine name of election winnert  \n",
    "    Election_winner = max(Vote_count, key = Vote_count.get)\n",
    "  \n",
    "    #Claculate percentage of votes for each candidate\n",
    "    Vote_percent = Vote_count.copy()\n",
    "    \n",
    "    for x in Vote_percent:\n",
    "        Vote_percent[x] = round(Vote_percent[x]/Total_votes*100,3)\n",
    "        \n",
    " \n",
    "    \n",
    "        "
   ]
  },
  {
   "cell_type": "code",
   "execution_count": 3,
   "id": "34ce26ea",
   "metadata": {},
   "outputs": [
    {
     "name": "stdout",
     "output_type": "stream",
     "text": [
      "Election Results\n",
      "        \n",
      "------------------------------\n",
      "        \n",
      "Total Votes: 369711\n",
      "        \n",
      "------------------------------\n",
      "        \n",
      "Charles Casper Stockham: 23.049% (85213)\n",
      "        \n",
      "Diana DeGette: 73.812% (272892)\n",
      "        \n",
      "Raymon Anthony Doane: 3.139% (11606)\n",
      "        \n",
      "------------------------------\n",
      "        \n",
      "Winner: Diana DeGette\n",
      "        \n",
      "------------------------------\n"
     ]
    }
   ],
   "source": [
    "#Print to terminal\n",
    "print(\"Election Results\")\n",
    "print(\"        \")\n",
    "print(\"------------------------------\")\n",
    "print(\"        \")\n",
    "print(f\"Total Votes: {Total_votes}\")\n",
    "print(\"        \")\n",
    "print(\"------------------------------\")\n",
    "print(\"        \")\n",
    "for key,value in Vote_percent.items():\n",
    "    print(f\"{key}: {value}% ({Vote_count[key]})\")\n",
    "    print(\"        \")\n",
    "print(\"------------------------------\")\n",
    "print(\"        \")\n",
    "print(f\"Winner: {Election_winner}\")\n",
    "print(\"        \")\n",
    "print(\"------------------------------\")    "
   ]
  },
  {
   "cell_type": "code",
   "execution_count": 11,
   "id": "972d09d7",
   "metadata": {},
   "outputs": [],
   "source": [
    "#Print to text file\n",
    "with open('Election_Results.txt','w') as f:\n",
    "    f.write(\"Election Results\" + '\\n' + '\\n')\n",
    "    f.write(\"------------------------------\" + '\\n' + '\\n')\n",
    "    f.write(f\"Total Votes: {Total_votes}\" + '\\n' + '\\n')\n",
    "    f.write(\"------------------------------\" + '\\n' + '\\n')\n",
    "    for key,value in Vote_percent.items():\n",
    "        f.write(f\"{key}: {value}% ({Vote_count[key]})\" + '\\n' + '\\n')\n",
    "    f.write(\"------------------------------\" + '\\n' + '\\n')\n",
    "    f.write(f\"Winner: {Election_winner}\" + '\\n' + '\\n')\n",
    "    f.write(\"------------------------------\")    "
   ]
  },
  {
   "cell_type": "code",
   "execution_count": null,
   "id": "c5bd2d1c",
   "metadata": {},
   "outputs": [],
   "source": []
  }
 ],
 "metadata": {
  "kernelspec": {
   "display_name": "Python 3 (ipykernel)",
   "language": "python",
   "name": "python3"
  },
  "language_info": {
   "codemirror_mode": {
    "name": "ipython",
    "version": 3
   },
   "file_extension": ".py",
   "mimetype": "text/x-python",
   "name": "python",
   "nbconvert_exporter": "python",
   "pygments_lexer": "ipython3",
   "version": "3.9.13"
  }
 },
 "nbformat": 4,
 "nbformat_minor": 5
}
