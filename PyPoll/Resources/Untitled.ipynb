{
 "cells": [
  {
   "cell_type": "code",
   "execution_count": null,
   "id": "0954ec09",
   "metadata": {},
   "outputs": [],
   "source": [
    "#Import needed modules and specify path to locate data\n",
    "import os\n",
    "import csv\n",
    "csvpath = os.path.join('Resources','election_data.csv')"
   ]
  },
  {
   "cell_type": "code",
   "execution_count": null,
   "id": "4af5bfe5",
   "metadata": {},
   "outputs": [],
   "source": [
    "#Create list to store data and perform calculations\n",
    "Candidates = []\n",
    "Unique_candidates = []\n",
    "Candidate_Vote_Count = []\n",
    "\n",
    "\n",
    "with open (csvpath) as csvfile:\n",
    "    \n",
    "    Poll_data = csv.reader(csvfile, delimiter = ',')\n",
    "    \n",
    "    csv_header = next(Poll_data)\n",
    "    \n",
    "    #Collect candidate names and count of votes\n",
    "    for row in Poll_data:\n",
    "        Candidates.append(row[2])\n",
    "        \n",
    "    Total_votes = len(Candidates)\n",
    "    \n",
    "    print(Total_votes)\n",
    "    \n",
    "    #Find unique values in candidates list\n",
    "    for x in Candidates:\n",
    "        if x not in Unique_candidates:\n",
    "            Unique_candidates.append(x)\n",
    "    print(Unique_candidates)\n",
    "    Candidate_count = len(Unique_candidates)\n",
    "    print(Candidate_count)\n",
    "    \n",
    "    \n",
    "    #Count votes for each candidate\n",
    "    Vote_count = {} \n",
    "    for x in Candidates:\n",
    "        Vote_count[x]= Vote_count.get(x,0) + 1\n",
    "        \n",
    "    print(Vote_count)\n",
    "    \n",
    "    Vote_percent = Vote_count\n",
    "    \n",
    "    for x in Vote_percent:\n",
    "        Vote_percent[x] /= Total_votes\n",
    "   \n",
    "    print(Vote_percent)\n",
    "    \n",
    "    \n",
    "        "
   ]
  }
 ],
 "metadata": {
  "kernelspec": {
   "display_name": "Python 3 (ipykernel)",
   "language": "python",
   "name": "python3"
  },
  "language_info": {
   "codemirror_mode": {
    "name": "ipython",
    "version": 3
   },
   "file_extension": ".py",
   "mimetype": "text/x-python",
   "name": "python",
   "nbconvert_exporter": "python",
   "pygments_lexer": "ipython3",
   "version": "3.9.13"
  }
 },
 "nbformat": 4,
 "nbformat_minor": 5
}
